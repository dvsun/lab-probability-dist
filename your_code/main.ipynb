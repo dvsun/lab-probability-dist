{
 "cells": [
  {
   "cell_type": "markdown",
   "metadata": {},
   "source": [
    "# Before your start:\n",
    "- Read the README.md file\n",
    "- Comment as much as you can and use the resources (README.md file)\n",
    "- Happy learning!"
   ]
  },
  {
   "cell_type": "code",
   "execution_count": 56,
   "metadata": {
    "ExecuteTime": {
     "end_time": "2019-03-25T14:48:00.409737Z",
     "start_time": "2019-03-25T14:48:00.398110Z"
    }
   },
   "outputs": [],
   "source": [
    "# Import your libraries\n",
    "import pandas as pd \n",
    "import numpy as np\n",
    "from scipy import stats\n",
    "from matplotlib import pyplot as plt\n",
    "import pylab"
   ]
  },
  {
   "cell_type": "markdown",
   "metadata": {},
   "source": [
    "# Challenge 1 - Generate and Plot Normal Distributions"
   ]
  },
  {
   "cell_type": "markdown",
   "metadata": {},
   "source": [
    "#### Step 1: Generate samples and test normal distribution\n",
    "\n",
    "Use mean=50, standard_deviation=5, and sample_size=[10, 50, 500, 5000] to generate 4 random samples that are normally distributed. Test your normal distributions with [`scipy.stats.normaltest`](https://docs.scipy.org/doc/scipy/reference/generated/scipy.stats.normaltest.html).\n",
    "\n",
    "\n",
    "*Hint: Read the documentation for `scipy.stats.normaltest`. The function does not simply return Yes or No for whether your data is normal distribution. It returns the likelihood.*"
   ]
  },
  {
   "cell_type": "code",
   "execution_count": 7,
   "metadata": {
    "ExecuteTime": {
     "end_time": "2019-03-25T13:32:23.305033Z",
     "start_time": "2019-03-25T13:32:23.294181Z"
    }
   },
   "outputs": [],
   "source": [
    "# Your code here\n",
    "mean = 50\n",
    "standard_deviation = 5\n",
    "sample_size = [10]\n",
    "\n",
    "random_samples_10 = np.random.normal(loc= mean, scale = standard_deviation, size = sample_size)\n"
   ]
  },
  {
   "cell_type": "code",
   "execution_count": 8,
   "metadata": {
    "ExecuteTime": {
     "end_time": "2019-03-25T13:32:28.542744Z",
     "start_time": "2019-03-25T13:32:28.535298Z"
    }
   },
   "outputs": [
    {
     "data": {
      "text/plain": [
       "array([48.58444858, 47.21042391, 57.75749139, 54.64933152, 56.61719818,\n",
       "       44.80625619, 48.71581886, 43.2047876 , 49.49078221, 55.58235344])"
      ]
     },
     "execution_count": 8,
     "metadata": {},
     "output_type": "execute_result"
    }
   ],
   "source": [
    "random_samples_10"
   ]
  },
  {
   "cell_type": "code",
   "execution_count": 29,
   "metadata": {
    "ExecuteTime": {
     "end_time": "2019-03-25T13:51:19.483343Z",
     "start_time": "2019-03-25T13:51:19.475916Z"
    }
   },
   "outputs": [],
   "source": [
    "mean = 50\n",
    "standard_deviation = 5\n",
    "sample_size = [50]\n",
    "\n",
    "random_samples_50 = np.random.normal(loc= mean, scale = standard_deviation, size = sample_size)\n"
   ]
  },
  {
   "cell_type": "code",
   "execution_count": 30,
   "metadata": {
    "ExecuteTime": {
     "end_time": "2019-03-25T13:51:20.246599Z",
     "start_time": "2019-03-25T13:51:20.241515Z"
    }
   },
   "outputs": [],
   "source": [
    "mean = 50\n",
    "standard_deviation = 5\n",
    "sample_size = [500]\n",
    "\n",
    "random_samples_500 = np.random.normal(loc= mean, scale = standard_deviation, size = sample_size)\n"
   ]
  },
  {
   "cell_type": "code",
   "execution_count": 31,
   "metadata": {
    "ExecuteTime": {
     "end_time": "2019-03-25T13:51:20.807143Z",
     "start_time": "2019-03-25T13:51:20.797571Z"
    }
   },
   "outputs": [],
   "source": [
    "mean = 50\n",
    "standard_deviation = 5\n",
    "sample_size = [5000]\n",
    "\n",
    "random_samples_5000 = np.random.normal(loc= mean, scale = standard_deviation, size = sample_size)\n"
   ]
  },
  {
   "cell_type": "code",
   "execution_count": 37,
   "metadata": {
    "ExecuteTime": {
     "end_time": "2019-03-25T13:52:40.439601Z",
     "start_time": "2019-03-25T13:52:40.435634Z"
    }
   },
   "outputs": [
    {
     "data": {
      "text/plain": [
       "(500,)"
      ]
     },
     "execution_count": 37,
     "metadata": {},
     "output_type": "execute_result"
    }
   ],
   "source": [
    "random_samples_500.shape"
   ]
  },
  {
   "cell_type": "code",
   "execution_count": 32,
   "metadata": {
    "ExecuteTime": {
     "end_time": "2019-03-25T13:51:21.219503Z",
     "start_time": "2019-03-25T13:51:21.211514Z"
    }
   },
   "outputs": [
    {
     "name": "stderr",
     "output_type": "stream",
     "text": [
      "/home/atwenter/anaconda3/lib/python3.7/site-packages/scipy/stats/stats.py:1394: UserWarning: kurtosistest only valid for n>=20 ... continuing anyway, n=10\n",
      "  \"anyway, n=%i\" % int(n))\n"
     ]
    },
    {
     "data": {
      "text/plain": [
       "NormaltestResult(statistic=1.892230228178098, pvalue=0.3882463904038406)"
      ]
     },
     "execution_count": 32,
     "metadata": {},
     "output_type": "execute_result"
    }
   ],
   "source": [
    "stats.normaltest(random_samples_10)"
   ]
  },
  {
   "cell_type": "code",
   "execution_count": 33,
   "metadata": {
    "ExecuteTime": {
     "end_time": "2019-03-25T13:51:21.851791Z",
     "start_time": "2019-03-25T13:51:21.846359Z"
    }
   },
   "outputs": [
    {
     "data": {
      "text/plain": [
       "NormaltestResult(statistic=2.5500505048436697, pvalue=0.27942391200181776)"
      ]
     },
     "execution_count": 33,
     "metadata": {},
     "output_type": "execute_result"
    }
   ],
   "source": [
    "stats.normaltest(random_samples_50)"
   ]
  },
  {
   "cell_type": "code",
   "execution_count": 34,
   "metadata": {
    "ExecuteTime": {
     "end_time": "2019-03-25T13:51:22.319072Z",
     "start_time": "2019-03-25T13:51:22.311331Z"
    }
   },
   "outputs": [
    {
     "data": {
      "text/plain": [
       "NormaltestResult(statistic=3.9313099467367403, pvalue=0.1400641182988442)"
      ]
     },
     "execution_count": 34,
     "metadata": {},
     "output_type": "execute_result"
    }
   ],
   "source": [
    "stats.normaltest(random_samples_500)"
   ]
  },
  {
   "cell_type": "code",
   "execution_count": 35,
   "metadata": {
    "ExecuteTime": {
     "end_time": "2019-03-25T13:51:22.763602Z",
     "start_time": "2019-03-25T13:51:22.754630Z"
    }
   },
   "outputs": [
    {
     "data": {
      "text/plain": [
       "NormaltestResult(statistic=0.45718396601685235, pvalue=0.7956531072719507)"
      ]
     },
     "execution_count": 35,
     "metadata": {},
     "output_type": "execute_result"
    }
   ],
   "source": [
    "stats.normaltest(random_samples_5000)"
   ]
  },
  {
   "cell_type": "markdown",
   "metadata": {},
   "source": [
    "#### Interpret the normaltest results and make your observations."
   ]
  },
  {
   "cell_type": "markdown",
   "metadata": {},
   "source": [
    "# Explain the test results here\n",
    "- The statistic parameter give you information regarding the skewness and the kurtosis of the values. return s(z-scored)² + k(z-scored)².That is, this value goes from 0 to ?. The greater it is, the less normal is the distribution.\n",
    "\n",
    "- p-value returns the probability for the hypothesis of this test (null hypothesis: the distribution is normal). That means, the greater the p-value, the more normal is the distribution. \n",
    "\n",
    "As a conclusion, the more random values you get, the more normal distribution follow."
   ]
  },
  {
   "cell_type": "markdown",
   "metadata": {},
   "source": [
    "#### Step 2: Plot normal distributions\n",
    "\n",
    "Use matplotlib to plot a histogram of each sample. \n",
    "\n",
    "*Hints:*\n",
    "\n",
    "- Your outputs should look like below:\n",
    "\n",
    "![normal distributions with different sample sizes](ch-1.png)"
   ]
  },
  {
   "cell_type": "code",
   "execution_count": 45,
   "metadata": {
    "ExecuteTime": {
     "end_time": "2019-03-25T13:55:53.163881Z",
     "start_time": "2019-03-25T13:55:53.045521Z"
    }
   },
   "outputs": [
    {
     "data": {
      "text/plain": [
       "(array([1., 1., 1., 2., 1., 0., 0., 1., 1., 2.]),\n",
       " array([43.2047876 , 44.66005798, 46.11532836, 47.57059874, 49.02586912,\n",
       "        50.4811395 , 51.93640987, 53.39168025, 54.84695063, 56.30222101,\n",
       "        57.75749139]),\n",
       " <a list of 10 Patch objects>)"
      ]
     },
     "execution_count": 45,
     "metadata": {},
     "output_type": "execute_result"
    },
    {
     "data": {
      "image/png": "[encoded data removed]",
      "text/plain": [
       "<Figure size 432x288 with 1 Axes>"
      ]
     },
     "metadata": {
      "needs_background": "light"
     },
     "output_type": "display_data"
    }
   ],
   "source": [
    "# Your code here\n",
    "plt.hist(random_samples_10)"
   ]
  },
  {
   "cell_type": "code",
   "execution_count": 46,
   "metadata": {
    "ExecuteTime": {
     "end_time": "2019-03-25T13:56:01.446468Z",
     "start_time": "2019-03-25T13:56:01.335296Z"
    }
   },
   "outputs": [
    {
     "data": {
      "text/plain": [
       "(array([3., 2., 5., 4., 5., 9., 6., 7., 4., 5.]),\n",
       " array([41.2451225 , 42.89582087, 44.54651923, 46.1972176 , 47.84791596,\n",
       "        49.49861433, 51.14931269, 52.80001106, 54.45070942, 56.10140779,\n",
       "        57.75210615]),\n",
       " <a list of 10 Patch objects>)"
      ]
     },
     "execution_count": 46,
     "metadata": {},
     "output_type": "execute_result"
    },
    {
     "data": {
      "image/png": "[encoded data removed]",
      "text/plain": [
       "<Figure size 432x288 with 1 Axes>"
      ]
     },
     "metadata": {
      "needs_background": "light"
     },
     "output_type": "display_data"
    }
   ],
   "source": [
    "plt.hist(random_samples_50)"
   ]
  },
  {
   "cell_type": "code",
   "execution_count": 51,
   "metadata": {
    "ExecuteTime": {
     "end_time": "2019-03-25T14:00:26.407004Z",
     "start_time": "2019-03-25T14:00:26.033607Z"
    }
   },
   "outputs": [
    {
     "data": {
      "text/plain": [
       "(array([ 1.,  0.,  0.,  1.,  0.,  0.,  0.,  0.,  1.,  0.,  0.,  0.,  0.,\n",
       "         1.,  0.,  2.,  0.,  0.,  1.,  0.,  0.,  0.,  2.,  1.,  2.,  1.,\n",
       "         1.,  1.,  1.,  0.,  0.,  2.,  1.,  0.,  0.,  2.,  0.,  0.,  0.,\n",
       "         3.,  1.,  0.,  1.,  1.,  2.,  1.,  0.,  2.,  3.,  2.,  1.,  2.,\n",
       "         2.,  1.,  1.,  1.,  5.,  1.,  1.,  2.,  4.,  2.,  3.,  2.,  3.,\n",
       "         4.,  4.,  5.,  3.,  5.,  7.,  3.,  6.,  2.,  4.,  7.,  7.,  6.,\n",
       "         4.,  2.,  5.,  3.,  4.,  3.,  4.,  1.,  5.,  2.,  5.,  2., 11.,\n",
       "         4.,  8.,  4.,  5.,  3.,  7.,  5.,  5.,  3.,  4.,  5.,  5.,  5.,\n",
       "         3.,  3., 11.,  4.,  8.,  3.,  7.,  5.,  5.,  9.,  7.,  6.,  3.,\n",
       "         8.,  4.,  7.,  4.,  5.,  7.,  7.,  6.,  7.,  4.,  8.,  5.,  1.,\n",
       "         8.,  7.,  5.,  7.,  1.,  3.,  2.,  3.,  1.,  2.,  5.,  2.,  1.,\n",
       "         3.,  4.,  2.,  1.,  4.,  5.,  0.,  8.,  2.,  2.,  2.,  1.,  0.,\n",
       "         0.,  2.,  1.,  2.,  2.,  1.,  3.,  0.,  0.,  0.,  3.,  2.,  0.,\n",
       "         1.,  1.,  1.,  1.,  0.,  1.,  0.,  0.,  0.,  1.,  1.,  0.,  1.,\n",
       "         0.,  0.,  1.,  0.,  0.,  1.,  0.,  0.,  0.,  0.,  0.,  0.,  0.,\n",
       "         0.,  0.,  0.,  0.,  1.]),\n",
       " array([35.37091873, 35.5164253 , 35.66193187, 35.80743845, 35.95294502,\n",
       "        36.09845159, 36.24395817, 36.38946474, 36.53497131, 36.68047788,\n",
       "        36.82598446, 36.97149103, 37.1169976 , 37.26250418, 37.40801075,\n",
       "        37.55351732, 37.6990239 , 37.84453047, 37.99003704, 38.13554362,\n",
       "        38.28105019, 38.42655676, 38.57206334, 38.71756991, 38.86307648,\n",
       "        39.00858306, 39.15408963, 39.2995962 , 39.44510278, 39.59060935,\n",
       "        39.73611592, 39.8816225 , 40.02712907, 40.17263564, 40.31814222,\n",
       "        40.46364879, 40.60915536, 40.75466194, 40.90016851, 41.04567508,\n",
       "        41.19118166, 41.33668823, 41.4821948 , 41.62770138, 41.77320795,\n",
       "        41.91871452, 42.0642211 , 42.20972767, 42.35523424, 42.50074082,\n",
       "        42.64624739, 42.79175396, 42.93726054, 43.08276711, 43.22827368,\n",
       "        43.37378026, 43.51928683, 43.6647934 , 43.81029998, 43.95580655,\n",
       "        44.10131312, 44.2468197 , 44.39232627, 44.53783284, 44.68333942,\n",
       "        44.82884599, 44.97435256, 45.11985914, 45.26536571, 45.41087228,\n",
       "        45.55637885, 45.70188543, 45.847392  , 45.99289857, 46.13840515,\n",
       "        46.28391172, 46.42941829, 46.57492487, 46.72043144, 46.86593801,\n",
       "        47.01144459, 47.15695116, 47.30245773, 47.44796431, 47.59347088,\n",
       "        47.73897745, 47.88448403, 48.0299906 , 48.17549717, 48.32100375,\n",
       "        48.46651032, 48.61201689, 48.75752347, 48.90303004, 49.04853661,\n",
       "        49.19404319, 49.33954976, 49.48505633, 49.63056291, 49.77606948,\n",
       "        49.92157605, 50.06708263, 50.2125892 , 50.35809577, 50.50360235,\n",
       "        50.64910892, 50.79461549, 50.94012207, 51.08562864, 51.23113521,\n",
       "        51.37664179, 51.52214836, 51.66765493, 51.81316151, 51.95866808,\n",
       "        52.10417465, 52.24968123, 52.3951878 , 52.54069437, 52.68620095,\n",
       "        52.83170752, 52.97721409, 53.12272067, 53.26822724, 53.41373381,\n",
       "        53.55924039, 53.70474696, 53.85025353, 53.99576011, 54.14126668,\n",
       "        54.28677325, 54.43227982, 54.5777864 , 54.72329297, 54.86879954,\n",
       "        55.01430612, 55.15981269, 55.30531926, 55.45082584, 55.59633241,\n",
       "        55.74183898, 55.88734556, 56.03285213, 56.1783587 , 56.32386528,\n",
       "        56.46937185, 56.61487842, 56.760385  , 56.90589157, 57.05139814,\n",
       "        57.19690472, 57.34241129, 57.48791786, 57.63342444, 57.77893101,\n",
       "        57.92443758, 58.06994416, 58.21545073, 58.3609573 , 58.50646388,\n",
       "        58.65197045, 58.79747702, 58.9429836 , 59.08849017, 59.23399674,\n",
       "        59.37950332, 59.52500989, 59.67051646, 59.81602304, 59.96152961,\n",
       "        60.10703618, 60.25254276, 60.39804933, 60.5435559 , 60.68906248,\n",
       "        60.83456905, 60.98007562, 61.1255822 , 61.27108877, 61.41659534,\n",
       "        61.56210192, 61.70760849, 61.85311506, 61.99862164, 62.14412821,\n",
       "        62.28963478, 62.43514136, 62.58064793, 62.7261545 , 62.87166108,\n",
       "        63.01716765, 63.16267422, 63.30818079, 63.45368737, 63.59919394,\n",
       "        63.74470051, 63.89020709, 64.03571366, 64.18122023, 64.32672681,\n",
       "        64.47223338]),\n",
       " <a list of 200 Patch objects>)"
      ]
     },
     "execution_count": 51,
     "metadata": {},
     "output_type": "execute_result"
    },
    {
     "data": {
      "image/png": "[encoded data removed]",
      "text/plain": [
       "<Figure size 432x288 with 1 Axes>"
      ]
     },
     "metadata": {
      "needs_background": "light"
     },
     "output_type": "display_data"
    }
   ],
   "source": [
    "plt.hist(random_samples_500, bins= 200)"
   ]
  },
  {
   "cell_type": "code",
   "execution_count": 50,
   "metadata": {
    "ExecuteTime": {
     "end_time": "2019-03-25T13:58:08.291398Z",
     "start_time": "2019-03-25T13:58:05.662492Z"
    }
   },
   "outputs": [
    {
     "data": {
      "text/plain": [
       "(array([1., 0., 0., ..., 0., 0., 1.]),\n",
       " array([32.85270954, 32.86986339, 32.88701724, ..., 67.12609754,\n",
       "        67.14325138, 67.16040523]),\n",
       " <a list of 2000 Patch objects>)"
      ]
     },
     "execution_count": 50,
     "metadata": {},
     "output_type": "execute_result"
    },
    {
     "data": {
      "image/png": "[encoded data removed]",
      "text/plain": [
       "<Figure size 432x288 with 1 Axes>"
      ]
     },
     "metadata": {
      "needs_background": "light"
     },
     "output_type": "display_data"
    }
   ],
   "source": [
    "plt.hist(random_samples_5000, bins=2000)"
   ]
  },
  {
   "cell_type": "code",
   "execution_count": null,
   "metadata": {},
   "outputs": [],
   "source": []
  },
  {
   "cell_type": "markdown",
   "metadata": {},
   "source": [
    "#### Compare the distributions above. What do you observe? Explain with the Central Limit Theorem."
   ]
  },
  {
   "cell_type": "markdown",
   "metadata": {},
   "source": [
    "# Your comment and explanation here\n",
    "The CLT allow us to know that if enough independent, equally distributed samples with std dev finite, the mean of that samples follow a normal distribution. In this case, the random values generated tend to follow a normal distribution as they are independent, equally distributed and with std dev finite. "
   ]
  },
  {
   "cell_type": "markdown",
   "metadata": {},
   "source": [
    "# Challenge 2 - Plot Probability Mass Function (PMF)"
   ]
  },
  {
   "cell_type": "markdown",
   "metadata": {},
   "source": [
    "#### Background knowledge\n",
    "\n",
    "[PF](https://en.wikipedia.org/wiki/Probability_mass_function) shows the probability distribution of a **discrete random variable**. A [discrete random variable](https://en.wikipedia.org/wiki/Random_variable#Discrete_random_variable) has random numeric values that are not continuous. For example, the number of people in a household can only be integers but not floats. Therefore the number of people in a household is a discrete variable.\n",
    "\n",
    "#### Question: We assume that the probability of clicking an Ad in a Youtube video is 0.15. We have a sample of 5 people who wathched the video and we want to plot the PMF for a binomial distribution.\n",
    "\n",
    "*Hint: use binom from `scipy.stats.binom`. Your output should look like below:*\n",
    "\n",
    "![binom 10](ch-2.png)"
   ]
  },
  {
   "cell_type": "code",
   "execution_count": 70,
   "metadata": {
    "ExecuteTime": {
     "end_time": "2019-03-25T15:06:05.396257Z",
     "start_time": "2019-03-25T15:06:05.388965Z"
    }
   },
   "outputs": [],
   "source": [
    "# Your code here\n",
    "binomial:\n",
    "\n",
    "yes/no\n",
    "success each time = 0.15\n",
    "5 times"
   ]
  },
  {
   "cell_type": "code",
   "execution_count": 78,
   "metadata": {
    "ExecuteTime": {
     "end_time": "2019-03-25T15:11:34.525330Z",
     "start_time": "2019-03-25T15:11:34.408615Z"
    }
   },
   "outputs": [
    {
     "data": {
      "text/plain": [
       "[<matplotlib.lines.Line2D at 0x7f3dae726a90>]"
      ]
     },
     "execution_count": 78,
     "metadata": {},
     "output_type": "execute_result"
    },
    {
     "data": {
      "image/png": "[encoded data removed]",
      "text/plain": [
       "<Figure size 432x288 with 1 Axes>"
      ]
     },
     "metadata": {
      "needs_background": "light"
     },
     "output_type": "display_data"
    }
   ],
   "source": [
    "x = scipy.linspace(0, 4, 5)\n",
    "pmf = scipy.stats.binom.pmf(x,5, 0.15)\n",
    "pylab.plot(pmf)"
   ]
  },
  {
   "cell_type": "markdown",
   "metadata": {},
   "source": [
    "#### Explain what you observe from the plot above"
   ]
  },
  {
   "cell_type": "markdown",
   "metadata": {},
   "source": [
    "The plot represents the probability (y-axis) that how many people (x-axis) from a pool of 5, will look the ad from you tube, knowing that each person has a probability of 0.15 to look at it. \n",
    "In the plot, we can see that the most probable is that nobody will look the add, and the probability decreases as we increase the number of people that would look the add. "
   ]
  },
  {
   "cell_type": "markdown",
   "metadata": {},
   "source": [
    "#### Now plot PMP with 50, 500, and 5000 visitors."
   ]
  },
  {
   "cell_type": "code",
   "execution_count": 73,
   "metadata": {
    "ExecuteTime": {
     "end_time": "2019-03-25T15:08:45.000263Z",
     "start_time": "2019-03-25T15:08:44.895272Z"
    }
   },
   "outputs": [
    {
     "data": {
      "text/plain": [
       "[<matplotlib.lines.Line2D at 0x7f3dae959780>]"
      ]
     },
     "execution_count": 73,
     "metadata": {},
     "output_type": "execute_result"
    },
    {
     "data": {
      "image/png": "[encoded data removed]",
      "text/plain": [
       "<Figure size 432x288 with 1 Axes>"
      ]
     },
     "metadata": {
      "needs_background": "light"
     },
     "output_type": "display_data"
    }
   ],
   "source": [
    "# Your code here\n",
    "x = scipy.linspace(0, 49, 50)\n",
    "pmf = scipy.stats.binom.pmf(x,50, 0.15)\n",
    "pylab.plot(pmf)"
   ]
  },
  {
   "cell_type": "code",
   "execution_count": 76,
   "metadata": {
    "ExecuteTime": {
     "end_time": "2019-03-25T15:10:12.006589Z",
     "start_time": "2019-03-25T15:10:11.906616Z"
    }
   },
   "outputs": [
    {
     "data": {
      "text/plain": [
       "[<matplotlib.lines.Line2D at 0x7f3dae7f8f28>]"
      ]
     },
     "execution_count": 76,
     "metadata": {},
     "output_type": "execute_result"
    },
    {
     "data": {
      "image/png": "[encoded data removed]",
      "text/plain": [
       "<Figure size 432x288 with 1 Axes>"
      ]
     },
     "metadata": {
      "needs_background": "light"
     },
     "output_type": "display_data"
    }
   ],
   "source": [
    "x = scipy.linspace(0, 499, 500)\n",
    "pmf = scipy.stats.binom.pmf(x,500, 0.15)\n",
    "pylab.plot(pmf)"
   ]
  },
  {
   "cell_type": "code",
   "execution_count": 75,
   "metadata": {
    "ExecuteTime": {
     "end_time": "2019-03-25T15:10:01.076844Z",
     "start_time": "2019-03-25T15:10:00.966121Z"
    }
   },
   "outputs": [
    {
     "data": {
      "text/plain": [
       "[<matplotlib.lines.Line2D at 0x7f3dae893b70>]"
      ]
     },
     "execution_count": 75,
     "metadata": {},
     "output_type": "execute_result"
    },
    {
     "data": {
      "image/png": "[encoded data removed]",
      "text/plain": [
       "<Figure size 432x288 with 1 Axes>"
      ]
     },
     "metadata": {
      "needs_background": "light"
     },
     "output_type": "display_data"
    }
   ],
   "source": [
    "x = scipy.linspace(0, 4999, 5000)\n",
    "pmf = scipy.stats.binom.pmf(x,5000, 0.15)\n",
    "pylab.plot(pmf)"
   ]
  },
  {
   "cell_type": "markdown",
   "metadata": {},
   "source": [
    "#### What did you notice from the distribution plots? Comment your findings."
   ]
  },
  {
   "cell_type": "markdown",
   "metadata": {},
   "source": [
    "As the people we are evaluating increases, the probability that at least someone will see the add increases, until the point that the most probable thing will be that 15% of the sample will look one ad. "
   ]
  },
  {
   "cell_type": "markdown",
   "metadata": {},
   "source": [
    "# Challenge 3"
   ]
  },
  {
   "cell_type": "markdown",
   "metadata": {},
   "source": [
    "#### Reaserch the Poisson distribution. Write about your own understanding of the Poisson distribution."
   ]
  },
  {
   "cell_type": "markdown",
   "metadata": {},
   "source": [
    "Probability of one event happens in an interval of time."
   ]
  },
  {
   "cell_type": "markdown",
   "metadata": {},
   "source": [
    "#### A website has an average of 300 visits per day. What is the probability of getting 320 visitors in a day?\n",
    "\n",
    "*Hint: use `scipy.stats.poisson`*"
   ]
  },
  {
   "cell_type": "code",
   "execution_count": 81,
   "metadata": {
    "ExecuteTime": {
     "end_time": "2019-03-25T15:29:26.776046Z",
     "start_time": "2019-03-25T15:29:26.766039Z"
    }
   },
   "outputs": [
    {
     "data": {
      "text/plain": [
       "0.011612348610402475"
      ]
     },
     "execution_count": 81,
     "metadata": {},
     "output_type": "execute_result"
    }
   ],
   "source": [
    "# Your code here\n",
    "stats.poisson.pmf(320, 300)"
   ]
  },
  {
   "cell_type": "markdown",
   "metadata": {},
   "source": [
    "#### What is the probability of getting 60 visits?"
   ]
  },
  {
   "cell_type": "code",
   "execution_count": 82,
   "metadata": {
    "ExecuteTime": {
     "end_time": "2019-03-25T15:29:55.669521Z",
     "start_time": "2019-03-25T15:29:55.662992Z"
    }
   },
   "outputs": [
    {
     "data": {
      "text/plain": [
       "2.622743762294515e-64"
      ]
     },
     "execution_count": 82,
     "metadata": {},
     "output_type": "execute_result"
    }
   ],
   "source": [
    "# Your code here\n",
    "stats.poisson.pmf(60, 300)"
   ]
  },
  {
   "cell_type": "markdown",
   "metadata": {},
   "source": [
    "#### Plot the distribution of the probability for getting 0-1000 visits.\n",
    "\n",
    "*Hints:* \n",
    "\n",
    "- Create a list to store the Poisson distribution probabilities for n=0 to 1000. Then plot the probabilities.\n",
    "\n",
    "- Your plot should look like below:\n",
    "\n",
    "![poisson distribution](ch-3.png)"
   ]
  },
  {
   "cell_type": "code",
   "execution_count": 84,
   "metadata": {
    "ExecuteTime": {
     "end_time": "2019-03-25T15:35:34.216910Z",
     "start_time": "2019-03-25T15:35:34.125537Z"
    }
   },
   "outputs": [
    {
     "data": {
      "text/plain": [
       "[<matplotlib.lines.Line2D at 0x7f3dae12c5f8>]"
      ]
     },
     "execution_count": 84,
     "metadata": {},
     "output_type": "execute_result"
    },
    {
     "data": {
      "image/png": "[encoded data removed]",
      "text/plain": [
       "<Figure size 432x288 with 1 Axes>"
      ]
     },
     "metadata": {
      "needs_background": "light"
     },
     "output_type": "display_data"
    }
   ],
   "source": [
    "# your code here\n",
    "y = scipy.linspace(0, 999, 1000)\n",
    "pmf_poisson = scipy.stats.poisson.pmf(y, 300)\n",
    "pylab.plot(pmf_poisson)"
   ]
  },
  {
   "cell_type": "markdown",
   "metadata": {},
   "source": [
    "# Challenge 4 - Central Limit Theorem"
   ]
  },
  {
   "cell_type": "markdown",
   "metadata": {},
   "source": [
    "#### Example of application\n",
    "\n",
    "A delivery company needs 35 minutes to deliver a package, with a standard deviation of 8 minutes. Suppose that in one day, they deliver 200 packages.\n",
    "\n",
    "#### a. What is the probability that the mean delivery time today is between 30 and 35 minutes?"
   ]
  },
  {
   "cell_type": "code",
   "execution_count": null,
   "metadata": {},
   "outputs": [],
   "source": [
    "# Your answer here\n",
    "x_mean= 35\n",
    "std_pack = 8\n",
    "std_div_sq_n = 0.5656\n",
    "n = 200\n",
    "\n",
    "P = mean delivery time between 30 and 35 is 0.5"
   ]
  },
  {
   "cell_type": "markdown",
   "metadata": {},
   "source": [
    "#### b. What is the probablity that in total, it takes more than 115 hours to deliver all 200 packages?"
   ]
  },
  {
   "cell_type": "code",
   "execution_count": null,
   "metadata": {},
   "outputs": [],
   "source": [
    "# Your answer here\n",
    "min = 115 * 60= 6900\n",
    "y value\n",
    "\n",
    "n*mean = 200 * 35 = 7000\n",
    "std*sq(n) = 113.1368\n",
    "\n",
    "P of 6900 or less = 0.188\n",
    "So, for more than 6900 = 0.812"
   ]
  }
 ],
 "metadata": {
  "anaconda-cloud": {},
  "kernelspec": {
   "display_name": "Python 3",
   "language": "python",
   "name": "python3"
  },
  "language_info": {
   "codemirror_mode": {
    "name": "ipython",
    "version": 3
   },
   "file_extension": ".py",
   "mimetype": "text/x-python",
   "name": "python",
   "nbconvert_exporter": "python",
   "pygments_lexer": "ipython3",
   "version": "3.7.1"
  },
  "varInspector": {
   "cols": {
    "lenName": 16,
    "lenType": 16,
    "lenVar": 40
   },
   "kernels_config": {
    "python": {
     "delete_cmd_postfix": "",
     "delete_cmd_prefix": "del ",
     "library": "var_list.py",
     "varRefreshCmd": "print(var_dic_list())"
    },
    "r": {
     "delete_cmd_postfix": ") ",
     "delete_cmd_prefix": "rm(",
     "library": "var_list.r",
     "varRefreshCmd": "cat(var_dic_list()) "
    }
   },
   "types_to_exclude": [
    "module",
    "function",
    "builtin_function_or_method",
    "instance",
    "_Feature"
   ],
   "window_display": false
  }
 },
 "nbformat": 4,
 "nbformat_minor": 1
}
